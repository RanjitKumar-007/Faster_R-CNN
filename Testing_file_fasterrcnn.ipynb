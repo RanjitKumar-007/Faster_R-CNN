{
 "cells": [
  {
   "cell_type": "code",
   "execution_count": null,
   "id": "a6c074be-c065-4519-8de1-9f96bc99e5e7",
   "metadata": {},
   "outputs": [],
   "source": [
    "# Importing libraries\n",
    "import torch\n",
    "import torchvision\n",
    "import numpy as np\n",
    "import cv2\n",
    "from torchvision.transforms.functional import to_tensor\n",
    "from torchvision.models.detection import fasterrcnn_resnet50_fpn"
   ]
  },
  {
   "cell_type": "code",
   "execution_count": 9,
   "id": "722c4c62-2945-477b-ad95-ec26bc35a8d1",
   "metadata": {},
   "outputs": [
    {
     "name": "stdin",
     "output_type": "stream",
     "text": [
      "Enter the detection threshold (e.g., 0.5):  0.9\n"
     ]
    },
    {
     "data": {
      "text/plain": [
       "True"
      ]
     },
     "execution_count": 9,
     "metadata": {},
     "output_type": "execute_result"
    }
   ],
   "source": [
    "# Main testing script\n",
    "# Paths\n",
    "model_path = 'fasterrcnn_camouflage.pth'\n",
    "image_path = '3.jpg'  # Test image\n",
    "# Detection Threshold (User Input)\n",
    "try:\n",
    "    score_threshold = float(input(\"Enter the detection threshold: \"))\n",
    "except ValueError:\n",
    "    print(\"Invalid input. Using default threshold = 0.9.\")\n",
    "    score_threshold = 0.9\n",
    "# Load image using OpenCV (BGR → RGB)\n",
    "img_bgr = cv2.imread(image_path)\n",
    "if img_bgr is None:\n",
    "    raise FileNotFoundError(f\"Image not found: {image_path}\")\n",
    "img_rgb = cv2.cvtColor(img_bgr, cv2.COLOR_BGR2RGB)\n",
    "img_float = img_rgb.astype(np.float32) / 255.0 \n",
    "# Convert to tensor\n",
    "image_tensor = to_tensor(img_float).unsqueeze(0)\n",
    "# Loading model\n",
    "num_classes = 2\n",
    "model = fasterrcnn_resnet50_fpn(weights=None)\n",
    "in_features = model.roi_heads.box_predictor.cls_score.in_features\n",
    "model.roi_heads.box_predictor = torchvision.models.detection.faster_rcnn.FastRCNNPredictor(in_features, num_classes)\n",
    "device = torch.device(\"cuda\" if torch.cuda.is_available() else \"cpu\")\n",
    "model.load_state_dict(torch.load(model_path, map_location=device))\n",
    "model.to(device)\n",
    "model.eval()\n",
    "# Inference\n",
    "with torch.no_grad():\n",
    "    image_tensor = image_tensor.to(device)\n",
    "    outputs = model(image_tensor)\n",
    "# Draw Boxes\n",
    "def draw_boxes(image, boxes, scores, threshold=0.5):\n",
    "    for i, box in enumerate(boxes):\n",
    "        if scores[i] < threshold:\n",
    "            continue\n",
    "        x1, y1, x2, y2 = box.astype(int)\n",
    "        cv2.rectangle(image, (x1, y1), (x2, y2), (255, 0, 0), 2)\n",
    "        label = f\"camouflage: {scores[i]:.2f}\"\n",
    "        cv2.putText(image, label, (x1, max(y1 - 10, 10)),\n",
    "                    cv2.FONT_HERSHEY_SIMPLEX, 0.6, (255, 0, 0), 2)\n",
    "    return image\n",
    "# Output\n",
    "output = outputs[0]\n",
    "boxes = output['boxes'].cpu().numpy()\n",
    "scores = output['scores'].cpu().numpy()\n",
    "vis_img = draw_boxes(original_img, boxes, scores, threshold=score_threshold)\n",
    "cv2.imwrite('output_image.jpg', cv2.cvtColor(vis_img, cv2.COLOR_RGB2BGR))"
   ]
  }
 ],
 "metadata": {
  "kernelspec": {
   "display_name": "Python 3 (ipykernel)",
   "language": "python",
   "name": "python3"
  },
  "language_info": {
   "codemirror_mode": {
    "name": "ipython",
    "version": 3
   },
   "file_extension": ".py",
   "mimetype": "text/x-python",
   "name": "python",
   "nbconvert_exporter": "python",
   "pygments_lexer": "ipython3",
   "version": "3.9.21"
  }
 },
 "nbformat": 4,
 "nbformat_minor": 5
}
